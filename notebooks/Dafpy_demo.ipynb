{
 "cells": [
  {
   "cell_type": "code",
   "execution_count": 106,
   "metadata": {
    "collapsed": false
   },
   "outputs": [
    {
     "data": {
      "text/plain": [
       "True"
      ]
     },
     "execution_count": 106,
     "metadata": {},
     "output_type": "execute_result"
    }
   ],
   "source": [
    "import dafpy as dfp\n",
    "g = dfp.DataflowEnvironment(name='test', verbose=False)\n",
    "g.set_call_args('u')\n",
    "g.set_call_rets('y')\n",
    "g.add_node('f', lambda x: x)\n",
    "g.add_node('g', lambda x: x)\n",
    "g.add_edge('f', 'g', apply=lambda x: -.9 * x)\n",
    "g.add_edge_call_args('f')\n",
    "g.add_edge_call_rets('g')\n",
    "g.start()\n",
    "g(10).y == -0.9 * 10\n"
   ]
  },
  {
   "cell_type": "code",
   "execution_count": 44,
   "metadata": {
    "collapsed": false
   },
   "outputs": [
    {
     "data": {
      "image/png": "[encoded data removed]",
      "text/plain": [
       "<IPython.core.display.Image object>"
      ]
     },
     "execution_count": 44,
     "metadata": {},
     "output_type": "execute_result"
    }
   ],
   "source": [
    "from dask import visualize\n",
    "visualize(g.to_dask())"
   ]
  },
  {
   "cell_type": "markdown",
   "metadata": {},
   "source": [
    "## Playing with generators "
   ]
  },
  {
   "cell_type": "code",
   "execution_count": 103,
   "metadata": {
    "collapsed": false
   },
   "outputs": [
    {
     "data": {
      "text/plain": [
       "[test(y=-0.0), test(y=-0.9), test(y=-1.8)]"
      ]
     },
     "execution_count": 103,
     "metadata": {},
     "output_type": "execute_result"
    }
   ],
   "source": [
    "g = dfp.DataflowEnvironment(name='test', verbose=False)\n",
    "g.set_call_rets('y')\n",
    "g.add_gentask('f', lambda gen : (x for x in [0,1,2]))\n",
    "g.add_node('g', lambda x: x)\n",
    "g.add_edge('f', 'g', apply=lambda x: -.9 * x)\n",
    "g.add_edge_call_rets('g')\n",
    "g.start()\n",
    "list(g.gen())"
   ]
  },
  {
   "cell_type": "code",
   "execution_count": null,
   "metadata": {
    "collapsed": false
   },
   "outputs": [],
   "source": []
  }
 ],
 "metadata": {
  "kernelspec": {
   "display_name": "Python 2",
   "language": "python",
   "name": "python2"
  },
  "language_info": {
   "codemirror_mode": {
    "name": "ipython",
    "version": 2
   },
   "file_extension": ".py",
   "mimetype": "text/x-python",
   "name": "python",
   "nbconvert_exporter": "python",
   "pygments_lexer": "ipython2",
   "version": "2.7.11"
  }
 },
 "nbformat": 4,
 "nbformat_minor": 0
}
